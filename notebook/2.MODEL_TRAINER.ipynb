version https://git-lfs.github.com/spec/v1
oid sha256:bdac0e6deb7e31ff460e08e957dfe2e01eb6208175d19852a900406efa8009a3
size 49331
